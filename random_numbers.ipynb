{
 "cells": [
  {
   "cell_type": "code",
   "execution_count": 1,
   "id": "2170c5cb",
   "metadata": {},
   "outputs": [],
   "source": [
    "# Import the random module.\n",
    "import random"
   ]
  },
  {
   "cell_type": "code",
   "execution_count": 3,
   "id": "f390a66b",
   "metadata": {},
   "outputs": [
    {
     "data": {
      "text/plain": [
       "36"
      ]
     },
     "execution_count": 3,
     "metadata": {},
     "output_type": "execute_result"
    }
   ],
   "source": [
    "random.randint(-90, 90)"
   ]
  },
  {
   "cell_type": "code",
   "execution_count": 4,
   "id": "44f0bf27",
   "metadata": {},
   "outputs": [],
   "source": [
    "x = 1\n",
    "latitudes = []\n",
    "while x < 11:\n",
    "    random_lat = random.randint(-90, 89) + random.random()\n",
    "    latitudes.append(random_lat)\n",
    "    x += 1"
   ]
  },
  {
   "cell_type": "code",
   "execution_count": 5,
   "id": "66b08f78",
   "metadata": {},
   "outputs": [
    {
     "data": {
      "text/plain": [
       "[-9.926771411153117,\n",
       " 0.425195914483006,\n",
       " -15.43833737295793,\n",
       " -29.06806914375452,\n",
       " -10.817393244092596,\n",
       " -30.816733277420226,\n",
       " 47.88933462687059,\n",
       " 11.097346111951357,\n",
       " 15.502422705184584,\n",
       " 53.51975551453361]"
      ]
     },
     "execution_count": 5,
     "metadata": {},
     "output_type": "execute_result"
    }
   ],
   "source": [
    "latitudes"
   ]
  },
  {
   "cell_type": "code",
   "execution_count": 6,
   "id": "7fedb305",
   "metadata": {},
   "outputs": [],
   "source": [
    "# Import the NumPy module.\n",
    "import numpy as np"
   ]
  },
  {
   "cell_type": "code",
   "execution_count": 7,
   "id": "9c0d1e14",
   "metadata": {},
   "outputs": [
    {
     "data": {
      "text/plain": [
       "20.500126573828112"
      ]
     },
     "execution_count": 7,
     "metadata": {},
     "output_type": "execute_result"
    }
   ],
   "source": [
    "np.random.uniform(-90.000, 90.000)"
   ]
  },
  {
   "cell_type": "code",
   "execution_count": 8,
   "id": "4ea97681",
   "metadata": {},
   "outputs": [
    {
     "data": {
      "text/plain": [
       "array([-6.87497283e+01, -5.58760908e+01, -8.65478356e+01,  8.54603903e+01,\n",
       "        4.46418793e+00,  7.60699889e+01,  3.85032294e+01, -2.41035260e+01,\n",
       "        2.15288555e+01,  6.02126093e+01,  7.15461242e+01,  8.02855905e+01,\n",
       "        1.62232030e+01, -3.24950457e+01,  4.87202841e+01, -8.03532801e+01,\n",
       "       -3.40870666e+01, -5.72483325e+01,  7.21076612e+01, -2.64426210e+01,\n",
       "        1.30830593e+01, -7.69763917e+01,  8.20592031e+00, -4.81967364e+00,\n",
       "       -7.37163699e+01, -1.89750648e+00, -2.39907414e+01, -2.02226168e+01,\n",
       "        2.23960124e+01,  3.41933767e+01, -7.24856218e+01,  5.40386330e+01,\n",
       "       -7.71903167e+01,  8.80904507e+01,  1.60625055e+01,  6.86976552e+01,\n",
       "       -8.71471317e+01, -4.68569188e+01,  5.47549635e+01, -5.86389719e+01,\n",
       "        3.33360931e+01,  4.92555898e+01,  4.92837726e+01,  7.88567697e+01,\n",
       "       -8.18591616e+01,  1.48289230e+00, -4.14640773e-02, -7.40725623e+01,\n",
       "       -8.65632224e+01, -1.22885860e+01])"
      ]
     },
     "execution_count": 8,
     "metadata": {},
     "output_type": "execute_result"
    }
   ],
   "source": [
    "np.random.uniform(-90.000, 90.000, size=50)"
   ]
  },
  {
   "cell_type": "code",
   "execution_count": 9,
   "id": "df6b8136",
   "metadata": {},
   "outputs": [],
   "source": [
    "# Import timeit.\n",
    "import timeit"
   ]
  },
  {
   "cell_type": "code",
   "execution_count": 10,
   "id": "92e7eeaf",
   "metadata": {},
   "outputs": [
    {
     "name": "stdout",
     "output_type": "stream",
     "text": [
      "14.7 µs ± 281 ns per loop (mean ± std. dev. of 7 runs, 100000 loops each)\n"
     ]
    }
   ],
   "source": [
    "%timeit np.random.uniform(-90.000, 90.000, size=1500)"
   ]
  },
  {
   "cell_type": "code",
   "execution_count": 11,
   "id": "836f0079",
   "metadata": {},
   "outputs": [
    {
     "name": "stdout",
     "output_type": "stream",
     "text": [
      "2.35 ms ± 272 µs per loop (mean ± std. dev. of 7 runs, 100 loops each)\n"
     ]
    }
   ],
   "source": [
    "def latitudes(size):\n",
    "    latitudes = []\n",
    "    x = 0\n",
    "    while x < (size):\n",
    "        random_lat = random.randint(-90, 90) + random.random()\n",
    "        latitudes.append(random_lat)\n",
    "        x += 1\n",
    "    return latitudes\n",
    "# Call the function with 1500.\n",
    "%timeit latitudes(1500)"
   ]
  },
  {
   "cell_type": "code",
   "execution_count": null,
   "id": "9f820011",
   "metadata": {},
   "outputs": [],
   "source": []
  }
 ],
 "metadata": {
  "kernelspec": {
   "display_name": "PythonData",
   "language": "python",
   "name": "pythondata"
  },
  "language_info": {
   "codemirror_mode": {
    "name": "ipython",
    "version": 3
   },
   "file_extension": ".py",
   "mimetype": "text/x-python",
   "name": "python",
   "nbconvert_exporter": "python",
   "pygments_lexer": "ipython3",
   "version": "3.7.10"
  }
 },
 "nbformat": 4,
 "nbformat_minor": 5
}
